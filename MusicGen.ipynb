{
  "nbformat": 4,
  "nbformat_minor": 0,
  "metadata": {
    "colab": {
      "provenance": [],
      "gpuType": "T4",
      "authorship_tag": "ABX9TyMqNjfCo5UWMjjeIf+8QOJV",
      "include_colab_link": true
    },
    "kernelspec": {
      "name": "python3",
      "display_name": "Python 3"
    },
    "language_info": {
      "name": "python"
    },
    "accelerator": "GPU"
  },
  "cells": [
    {
      "cell_type": "markdown",
      "metadata": {
        "id": "view-in-github",
        "colab_type": "text"
      },
      "source": [
        "<a href=\"https://colab.research.google.com/github/mohammadalmalt/AI/blob/main/MusicGen.ipynb\" target=\"_parent\"><img src=\"https://colab.research.google.com/assets/colab-badge.svg\" alt=\"Open In Colab\"/></a>"
      ]
    },
    {
      "cell_type": "code",
      "execution_count": null,
      "metadata": {
        "id": "_hYwjfbSa8EE"
      },
      "outputs": [],
      "source": [
        "!pip install -U git+https://github.com/facebookresearch/audiocraft.git\n",
        "!pip install -q torch torchvision torchaudio --index-url https://download.pytorch.org/whl/cu118\n",
        "!pip install scipy numpy\n"
      ]
    },
    {
      "cell_type": "code",
      "source": [
        "import torch\n",
        "from audiocraft.models import MusicGen\n",
        "from audiocraft.utils.notebook import display_audio\n",
        "import scipy.io.wavfile\n",
        "import numpy as np\n",
        "\n",
        "# Check environment and load model\n",
        "device = \"cuda\" if torch.cuda.is_available() else \"cpu\"\n",
        "\n",
        "model = MusicGen.get_pretrained(\"facebook/musicgen-small\")\n",
        "print(\"MusicGen model loaded!\")\n",
        "\n",
        "# Define prompt and generation parameters\n",
        "prompt = [\"oriental music using Oud and violin. Maqam Hijaz\"]\n",
        "model.set_generation_params(duration=15)  # 15 seconds of music\n",
        "\n",
        "# Generate music (output as float32 in [-1, 1])\n",
        "print(\"Generating music...\")\n",
        "generated_audio = model.generate(prompt, progress=True)\n",
        "music_waveform = generated_audio[0].cpu().numpy()  # still in float32\n",
        "\n",
        "# Listen in Colab (using the float32 waveform)\n",
        "display_audio(torch.tensor(music_waveform), sample_rate=model.sample_rate)\n",
        "\n",
        "# --- Saving the audio correctly ---\n",
        "output_path = \"generated_music.wav\"\n",
        "\n",
        "# Ensure the data is a NumPy array and remove any extra dimensions\n",
        "music_waveform = np.squeeze(music_waveform)\n",
        "\n",
        "# If stereo with shape [2, samples], transpose to [samples, 2]\n",
        "if music_waveform.ndim == 2 and music_waveform.shape[0] == 2:\n",
        "    music_waveform = music_waveform.T\n",
        "\n",
        "# Clip to ensure values are within [-1, 1] (should already be, but just in case)\n",
        "music_waveform = np.clip(music_waveform, -1, 1)\n",
        "\n",
        "# Convert float32 [-1,1] to int16 [-32768, 32767] **once**\n",
        "music_waveform_int16 = (music_waveform * 32767).astype(np.int16)\n",
        "\n",
        "# Use the sample rate from the model (or default to 32000)\n",
        "sample_rate = int(model.sample_rate) if hasattr(model, \"sample_rate\") else 32000\n",
        "\n",
        "# Save the WAV file\n",
        "scipy.io.wavfile.write(output_path, sample_rate, music_waveform_int16)\n",
        "print(f\"High-quality music saved as: {output_path}\")\n"
      ],
      "metadata": {
        "id": "aZdflDzapKlk"
      },
      "execution_count": null,
      "outputs": []
    }
  ]
}